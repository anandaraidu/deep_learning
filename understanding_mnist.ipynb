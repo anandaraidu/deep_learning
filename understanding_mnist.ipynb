{
 "cells": [
  {
   "cell_type": "code",
   "execution_count": 1,
   "id": "6ccb4afb-9f1c-4ad4-87b6-94a76e594f36",
   "metadata": {},
   "outputs": [],
   "source": [
    "from pathlib import Path\n",
    "import requests\n",
    "import pickle\n",
    "import gzip\n",
    "from matplotlib import pyplot\n",
    "import numpy as np\n",
    "\n",
    "from scipy.special import softmax\n",
    "#import torch as torch"
   ]
  },
  {
   "cell_type": "code",
   "execution_count": 2,
   "id": "aa26eac3-15c9-432f-bf34-d1b5fd4bae5e",
   "metadata": {},
   "outputs": [
    {
     "data": {
      "image/png": "[encoded data removed]",
      "text/plain": [
       "<Figure size 432x288 with 1 Axes>"
      ]
     },
     "metadata": {
      "needs_background": "light"
     },
     "output_type": "display_data"
    },
    {
     "name": "stdout",
     "output_type": "stream",
     "text": [
      "(50000, 784)\n"
     ]
    }
   ],
   "source": [
    "DATA_PATH = Path(\"/mnt/d/datasets/mnist_data/\")\n",
    "PATH = DATA_PATH / \"mnist\"\n",
    "\n",
    "PATH.mkdir(parents=True, exist_ok=True)\n",
    "FILENAME = \"mnist.pkl.gz\"\n",
    "\n",
    "with gzip.open((PATH / FILENAME).as_posix(), \"rb\") as f:\n",
    "    (x_train, y_train), (x_valid, y_valid), (x_test,y_test) = pickle.load(f, encoding=\"latin-1\")\n",
    "\n",
    "\n",
    "pyplot.imshow(x_train[0].reshape((28, 28)), cmap=\"gray\")\n",
    "pyplot.show()\n",
    "print(x_train.shape)"
   ]
  },
  {
   "cell_type": "code",
   "execution_count": 3,
   "id": "73ac18a2-12a3-481f-a3bc-f144f5df094e",
   "metadata": {},
   "outputs": [
    {
     "name": "stdout",
     "output_type": "stream",
     "text": [
      "Shape of Weights: (100, 784)\n",
      "Output shape: (100,) (100,)\n"
     ]
    }
   ],
   "source": [
    "#print( x_test[0].shape)\n",
    "wts = np.random.rand(100,784)\n",
    "\n",
    "\n",
    "print(f'Shape of Weights: {wts.shape}')\n",
    "out = np.matmul( wts, x_train[0])\n",
    "print(f'Output shape: {out.shape} {out.T.shape}')\n",
    "#x_train[0]"
   ]
  },
  {
   "cell_type": "code",
   "execution_count": 22,
   "id": "e60efb34-6e99-491e-b066-449ef874668e",
   "metadata": {},
   "outputs": [],
   "source": [
    "m1 = np.split(x_train, 100)"
   ]
  },
  {
   "cell_type": "code",
   "execution_count": 22,
   "id": "21b092d1-5021-4e60-90d7-45775908f615",
   "metadata": {},
   "outputs": [
    {
     "name": "stdout",
     "output_type": "stream",
     "text": [
      "(50000, 784)\n"
     ]
    }
   ],
   "source": [
    "#print(f'{x_train.shape} {m1[0].shape}')\n",
    "print(x_train.shape)"
   ]
  },
  {
   "cell_type": "code",
   "execution_count": 4,
   "id": "6bbdb40e-1b63-4242-827e-2b66a7c33301",
   "metadata": {},
   "outputs": [
    {
     "name": "stdout",
     "output_type": "stream",
     "text": [
      "Shape of Weights: (10, 100)\n",
      "Output shape: (10,) (10,) [2586.95731839 2830.87080953 2865.06958525 2856.45363321 2566.80112809\n",
      " 2844.99723118 2767.47636661 2542.01482238 2914.72776086 2811.09595152]\n",
      "Output shape: (10,) (10,) [2586.95731839 2830.87080953 2865.06958525 2856.45363321 2566.80112809\n",
      " 2844.99723118 2767.47636661 2542.01482238 2914.72776086 2811.09595152]\n"
     ]
    }
   ],
   "source": [
    "wts = np.random.rand(10,100)\n",
    "\n",
    "\n",
    "print(f'Shape of Weights: {wts.shape}')\n",
    "o2 = np.matmul( wts, out)\n",
    "print(f'Output shape: {o2.shape} {o2.T.shape} {o2}')\n",
    "\n",
    "o3 = np.matmul( wts, out.T)\n",
    "print(f'Output shape: {o3.shape} {o3.T.shape} {o3}')\n"
   ]
  },
  {
   "cell_type": "code",
   "execution_count": 63,
   "id": "fe1d8b33-83f2-4b93-b3bd-cf75a5ec501e",
   "metadata": {},
   "outputs": [],
   "source": [
    "def sigmoid(x):\n",
    "    return 1 / (1 + np.exp(-x) )\n",
    "\n",
    "def diff_sigmoid(x):\n",
    "    s = 1 / (1 + np.exp(x) )\n",
    "    return s*(1-s)\n",
    "\n",
    "def softmax(x,i):\n",
    "    return np.exp(x) / np.sum(np.exp(x))\n",
    "\n",
    "def loss_cross_entropy(x, true):\n",
    "    return -log(np.dot(true, x ))\n",
    "\n",
    "def derivative_cross_entropy(true_labels, out):\n",
    "    print(f\"Derivative Cross Entropy: True:{true_labels.shape} Out:{out.shape}\")\n",
    "    return out - true_labels\n",
    "\n",
    "def layer_compatibility_check( last_layer, ni, nf ):    \n",
    "        if last_layer.num_functions != ni:\n",
    "            print( f'Inputs-Units Incompatible: {last_layer.num_functions} != {ni}' )\n",
    "            raise(f'Inputs-Units Incompatible: {last_layer.num_functions} != {ni}')           "
   ]
  },
  {
   "cell_type": "code",
   "execution_count": 20,
   "id": "940f393b-1710-423b-9d57-45f24fbbeeac",
   "metadata": {},
   "outputs": [
    {
     "name": "stdout",
     "output_type": "stream",
     "text": [
      "50000\n"
     ]
    }
   ],
   "source": [
    "print( x_train.shape[0])"
   ]
  },
  {
   "cell_type": "code",
   "execution_count": 190,
   "id": "ac06c43c-13f8-4fc0-a0cc-b4ac18123788",
   "metadata": {},
   "outputs": [],
   "source": [
    "#This layer is only valid for Sigma..\n",
    "class Layer:\n",
    "    def __init__(self, nins, nouts):\n",
    "        self.num_functions = nouts\n",
    "        self.num_inputs = nins\n",
    "        self.b = np.random.rand(nouts,1 )\n",
    "        self.pending_b = np.zeros( (nouts,1) )\n",
    "        self.weights = np.random.rand(nouts, nins)\n",
    "        self.pending_weights_update = np.zeros( (nouts, nins) )\n",
    "        print(f'Layer Created: NumInputs: {self.num_inputs} numOuts: {self.num_functions}')\n",
    "        self.out = None\n",
    "    \n",
    "    #outputs an array of output       \n",
    "    def forward(self, inp):\n",
    "        #print(f\"Running forward: {inp.shape}\")\n",
    "        xt = np.matmul(self.weights, inp) + self.b\n",
    "        #print(f\"After activation: {xt.shape}\")\n",
    "        \n",
    "        self.inp = inp\n",
    "        self.out =  sigmoid( xt )         \n",
    "        return self.out\n",
    "    \n",
    "    \n",
    "    def weights_grad( self, grads):\n",
    "        o1 = self.out.reshape(self.out.shape[0],)\n",
    "        dsigma = o1 * (1- o1)\n",
    "        temp = (grads * dsigma)\n",
    "        i1 = self.inp.reshape(self.inp.shape[0],)\n",
    "        print(f\"Weights upgrade: Grads shape: {grads.shape} Dsigma shape: {dsigma.shape}\")\n",
    "        self.pending_weights_update= np.atleast_2d( temp ).T*  i1\n",
    "        print( f\"Weights update dl/dw: {self.pending_weights_update.shape}\")\n",
    "        self.pending_b =  (grads * dsigma)       \n",
    "        return temp\n",
    "    \n",
    "    def debug_weights_grad( self,grads , dsigma, inp):\n",
    "        temp = np.atleast_2d(  grads * dsigma).T * inp\n",
    "        self.pending_weights_update += temp\n",
    "        self.pending_b +=  (grads * dsigma)\n",
    "        return temp\n",
    "    \n",
    "    #return the new grads that should be back propogated..\n",
    "    def debug_backprop_grads( self, grads ):\n",
    "        #print(f\"Shape of self.out: {self.out.shape} grads shape: {grads.shape}\")\n",
    "        o1 = self.out.reshape(self.out.shape[0],)\n",
    "        #dsigma = self.out * (1- self.out)\n",
    "        dsigma = o1 * (1- o1)\n",
    "        #print(f\"Dsigma Shape:{dsigma.shape} grads shape:{grads.shape}\")\n",
    "        #mulval = grads * dsigma \n",
    "        #print(f\"Mulval shape:{ mulval.shape}\")\n",
    "        #x1 = np.atleast_2d( (grads * dsigma)\n",
    "        rv = np.atleast_2d( (grads * dsigma)).T*  self.weights \n",
    "        #print(f\"Successfully completed the back grads calculation {rv.shape}\")\n",
    "        rv = np.sum(rv, axis=0)\n",
    "        return rv\n",
    "    \n",
    "    def backprop_grads( self, grads ):\n",
    "        #return self.debug_backprop_grads( grads )\n",
    "        temp_out = self.out.reshape(self.out.shape[0],)        \n",
    "        dsigma = temp_out * (1- temp_out)\n",
    "        rv = np.atleast_2d( (grads * dsigma)).T *  self.weights \n",
    "        rv = np.sum(rv, axis=0)\n",
    "        return rv\n",
    "    \n",
    "    def update_weights(self):\n",
    "        self.wts -= LR * self.pending_weights_update\n",
    "        self.b -= LR * self.pending_b\n",
    "        \n",
    "    def batch_complete(self):\n",
    "        self.pending_weights_update = np.zeros( (self.num_functions, self.num_inputs) )\n",
    "        self.pending_b = np.zeros( self.num_functions )"
   ]
  },
  {
   "cell_type": "code",
   "execution_count": 191,
   "id": "203e94ba-174c-4256-aced-7815a7c1ecf1",
   "metadata": {},
   "outputs": [],
   "source": [
    "class Network:\n",
    "    def __init__(self):\n",
    "        self.layers = []\n",
    "        \n",
    "    def add_layer( self, ni, nf ):    \n",
    "        l = Layer(ni, nf )\n",
    "        if len(self.layers) > 0:\n",
    "            layer_compatibility_check( self.layers[-1], ni, nf )       \n",
    "        self.layers.append( l )\n",
    "                                         \n",
    "    def add_training_data(self, train, labels ):\n",
    "        self.x = train\n",
    "        self.y = labels\n",
    "    \n",
    "    def run_one_sample( self, inp, lbl ):\n",
    "        #print(f\"First Input shape is :{inp.shape[0]}\")\n",
    "        inp = inp.reshape((inp.shape[0],1))\n",
    "        \n",
    "        for l in self.layers:            \n",
    "            inp = l.forward(inp)\n",
    "            print(f\"Layer Success: Out shape:{inp.shape}\")\n",
    "            \n",
    "        #ut = inp\n",
    "        labels = np.zeros(10) #hard code Alert\n",
    "        labels[lbl] = 1.0\n",
    "        #labels = labels.reshape(10,1)\n",
    "        pred = softmax( labels, inp )\n",
    "        #print( f\"Labels Ground: {labels} prediction:{pred}\")\n",
    "        rinp = inp.reshape(10,)\n",
    "        grads = derivative_cross_entropy(labels, rinp)\n",
    "        #print(f\"Grads shape is :{grads.shape}\")\n",
    "        grads = grads.reshape(10,)\n",
    "        #grads = np.array([0.1, 0.1, 0.1, 0.1, 0.1, 0.7, 0.8, 0.9, 0.2, 0.3])\n",
    "        \n",
    "        for l in reversed(self.layers):\n",
    "            l.weights_grad( grads )\n",
    "            #print(f\"Grads shape before: {grads.shape}\")\n",
    "            grads = l.backprop_grads( grads )\n",
    "            print(f\"Grads shape after: {grads.shape}\")\n",
    "            print()\n",
    "                                         \n",
    "    def update_weights(self):\n",
    "        for l in self.layers:\n",
    "            l.update_weights() \n",
    "        for l in self.layers:\n",
    "            l.batch_complete()\n",
    "                                         \n",
    "    # Get a batch    \n",
    "    def train( self ):        \n",
    "        training_indices = np.arange( self.x.shape[0] )\n",
    "        #print(f'Training indices: {training_indices.size}')\n",
    "        np.random.shuffle( training_indices )\n",
    "        BATCH_SIZE = 100\n",
    "        NUM_BATCHES = int(training_indices.size/BATCH_SIZE)\n",
    "        \n",
    "        for bn in range(NUM_BATCHES):\n",
    "            for ind in range(BATCH_SIZE*bn, BATCH_SIZE*(bn+1)):\n",
    "                ix = training_indices[ind]\n",
    "                t = x_train[ix]\n",
    "                s = y_train[ix]\n",
    "                #print(f\"Y training is : {s}\")\n",
    "                self.run_one_sample( t, s )\n",
    "                break\n",
    "            break\n",
    "            self.update_weights()                                            "
   ]
  },
  {
   "cell_type": "code",
   "execution_count": 192,
   "id": "40a4f499-222a-49f5-a086-e142509c83f6",
   "metadata": {},
   "outputs": [],
   "source": [
    "w = np.random.rand(60, 784) \n",
    "y = x_train[0]\n",
    "z = y.reshape((784,1))\n",
    "#np.matmul(w, z )"
   ]
  },
  {
   "cell_type": "code",
   "execution_count": 193,
   "id": "37766dd7-854f-42c0-8d96-8bce868b32b7",
   "metadata": {},
   "outputs": [
    {
     "name": "stdout",
     "output_type": "stream",
     "text": [
      "Layer Created: NumInputs: 784 numOuts: 60\n",
      "Layer Created: NumInputs: 60 numOuts: 45\n",
      "Layer Created: NumInputs: 45 numOuts: 10\n",
      "Layer Success: Out shape:(60, 1)\n",
      "Layer Success: Out shape:(45, 1)\n",
      "Layer Success: Out shape:(10, 1)\n",
      "Derivative Cross Entropy: True:(10,) Out:(10,)\n",
      "Weights upgrade: Grads shape: (10,) Dsigma shape: (10,)\n",
      "Weights update dl/dw: (10, 45)\n",
      "Grads shape after: (45,)\n",
      "\n",
      "Weights upgrade: Grads shape: (45,) Dsigma shape: (45,)\n",
      "Weights update dl/dw: (45, 60)\n",
      "Grads shape after: (60,)\n",
      "\n",
      "Weights upgrade: Grads shape: (60,) Dsigma shape: (60,)\n",
      "Weights update dl/dw: (60, 784)\n",
      "Grads shape after: (784,)\n",
      "\n"
     ]
    }
   ],
   "source": [
    "n = Network()\n",
    "n.add_layer( 784,60)\n",
    "n.add_layer(60,45)\n",
    "n.add_layer(45,10)\n",
    "n.add_training_data(x_train, y_train )\n",
    "n.train()\n"
   ]
  },
  {
   "cell_type": "markdown",
   "id": "64e6325a-7086-4251-b81a-bc5d16c46f66",
   "metadata": {},
   "source": [
    "## Notes on weight updation\n",
    "For a given layer,Let there be:\n",
    "\n",
    "    M outputs \n",
    "    N inputs\n",
    "  \n",
    "In the backward path:\n",
    "we have:\n",
    "\n",
    "$\\frac{\\partial{L}}{\\partial{y_{1}}}$ , $\\frac{\\partial{L}}{\\partial{y_{2}}}$...\n",
    "$\\frac{\\partial{L}}{\\partial{y_{m}}}$ \n",
    "\\\n",
    "known to us.\n",
    "\n",
    "Given this what we want is:\n",
    "\n",
    "$\\textbf{Weight Update}$: \n",
    "\n",
    "$\\frac{\\partial{L}}{\\partial{w_{11}}}$.....$\\frac{\\partial{L}}{\\partial{w_{mn}}}$  \n",
    "where $\\frac{\\partial{L}}{\\partial{w_{pq}}}$  weight corresponds to \n",
    "$p^{th}$ output and  $q^{th}$  input.\n",
    "\n",
    "$\\frac{\\partial{L}}{\\partial{w_{pq}}} = \\frac{\\partial{L}}{\\partial{y_{p}}} * \\frac{\\partial{y_{p}}}{\\partial{w_{pq}}}$\n",
    "\n",
    "$\\textit{NOTE that for every combination of input-output pair there is a weight}$. \\\n",
    "$\\textit{Since there are N inputs and M outputs there are m*n weight plus bias for each output}$\n",
    "\n",
    "$\\textbf{Gradient for inputs for back propagation}$:\n",
    "\n",
    "Here what we want is: $\\frac{\\partial{L}}{\\partial{x_{i}}}$\n",
    "\n",
    "note that: every input contributes to every output.\n",
    "\n",
    "$\\frac{\\partial{L}}{\\partial{x_{1}}} = \\frac{\\partial{L}}{\\partial{y_{1}}} * \\frac{\\partial{y_{1}}}{\\partial{x_{1}}} + \\frac{\\partial{L}}{\\partial{y_{2}}} * \\frac{\\partial{y_{2}}}{\\partial{x_{1}}}$... $+ \\frac{\\partial{L}}{\\partial{y_{m}}} * \\frac{\\partial{y_{2}}}{\\partial{x_{1}}}$\n",
    "\n",
    "In general for $\\frac{\\partial{L}}{\\partial{x_{k}}}$ we have: \n",
    "\n",
    "$\\frac{\\partial{L}}{\\partial{x_{k}}} = \\frac{\\partial{L}}{\\partial{y_{1}}} * \\frac{\\partial{y_{1}}}{\\partial{x_{k}}} + \\frac{\\partial{L}}{\\partial{y_{2}}} * \\frac{\\partial{y_{2}}}{\\partial{x_{k}}}$... $+ \\frac{\\partial{L}}{\\partial{y_{m}}} * \\frac{\\partial{y_{2}}}{\\partial{x_{k}}}$\n",
    "\n",
    "in sigma notation:\n",
    "\n",
    "$\\frac{\\partial{L}}{\\partial{x_{k}}}= \\sum_{k=1}^{m} \\frac{\\partial{L}}{\\partial{y_{i}}} * \\frac{\\partial{y_{i}}}{\\partial{x_{k}}} $\n",
    "\n",
    "\n"
   ]
  },
  {
   "cell_type": "code",
   "execution_count": null,
   "id": "11f1a717-9d7a-4d4a-abf2-274570ad361a",
   "metadata": {},
   "outputs": [],
   "source": []
  },
  {
   "cell_type": "code",
   "execution_count": 7,
   "id": "40f6df9f-bdc1-4a63-a17f-c51c36499ba8",
   "metadata": {},
   "outputs": [],
   "source": [
    "m = np.random.rand(3,4)"
   ]
  },
  {
   "cell_type": "code",
   "execution_count": 9,
   "id": "9aaf5bb3-edb7-40d1-ae06-62a399704a91",
   "metadata": {},
   "outputs": [],
   "source": [
    "n = np.random.rand(4,2)"
   ]
  },
  {
   "cell_type": "code",
   "execution_count": 11,
   "id": "b85fd9df-94c8-42bd-8388-4c28701da836",
   "metadata": {},
   "outputs": [
    {
     "data": {
      "text/plain": [
       "array([[0.76472413, 0.52022469],\n",
       "       [0.33721285, 0.86810084],\n",
       "       [0.66702895, 0.98541877]])"
      ]
     },
     "execution_count": 11,
     "metadata": {},
     "output_type": "execute_result"
    }
   ],
   "source": [
    "np.matmul(m,n)"
   ]
  },
  {
   "cell_type": "code",
   "execution_count": 26,
   "id": "41e857d4-a2b3-436a-b704-46c3ba864db4",
   "metadata": {},
   "outputs": [],
   "source": [
    "y = np.array([1,2,3])"
   ]
  },
  {
   "cell_type": "code",
   "execution_count": 37,
   "id": "7478f0c0-a811-4a5a-a5d3-f1917c7055e5",
   "metadata": {},
   "outputs": [
    {
     "data": {
      "text/plain": [
       "array([1, 1, 2, 2, 3, 3])"
      ]
     },
     "execution_count": 37,
     "metadata": {},
     "output_type": "execute_result"
    }
   ],
   "source": [
    "np.repeat(y, repeats=2, axis=0)"
   ]
  },
  {
   "cell_type": "code",
   "execution_count": 38,
   "id": "2745f4ec-2e26-481d-9f54-d7d18b92880a",
   "metadata": {},
   "outputs": [
    {
     "data": {
      "text/plain": [
       "array([1, 1, 2, 2, 3, 3])"
      ]
     },
     "execution_count": 38,
     "metadata": {},
     "output_type": "execute_result"
    }
   ],
   "source": [
    "np.repeat(y.T, repeats=2, axis=0)"
   ]
  },
  {
   "cell_type": "code",
   "execution_count": 30,
   "id": "95352d23-bf55-4033-9dba-db0542c72a0b",
   "metadata": {},
   "outputs": [
    {
     "data": {
      "text/plain": [
       "(3,)"
      ]
     },
     "execution_count": 30,
     "metadata": {},
     "output_type": "execute_result"
    }
   ],
   "source": [
    "y.T.shape"
   ]
  },
  {
   "cell_type": "code",
   "execution_count": 29,
   "id": "dc7ed956-ad69-475a-ab21-c1afcb416898",
   "metadata": {},
   "outputs": [
    {
     "data": {
      "text/plain": [
       "(3,)"
      ]
     },
     "execution_count": 29,
     "metadata": {},
     "output_type": "execute_result"
    }
   ],
   "source": [
    "y.shape"
   ]
  },
  {
   "cell_type": "code",
   "execution_count": 26,
   "id": "b7a80e99-a2af-4162-9487-5f34f5f96326",
   "metadata": {},
   "outputs": [],
   "source": [
    "tm = np.array([[1,2,3,10],[4,5,6,10],[7,8,9,10]])"
   ]
  },
  {
   "cell_type": "code",
   "execution_count": 27,
   "id": "9aa19f4d-ad38-414d-beee-bd624cc7775d",
   "metadata": {},
   "outputs": [
    {
     "data": {
      "text/plain": [
       "array([[ 1,  2,  3, 10],\n",
       "       [ 4,  5,  6, 10],\n",
       "       [ 7,  8,  9, 10]])"
      ]
     },
     "execution_count": 27,
     "metadata": {},
     "output_type": "execute_result"
    }
   ],
   "source": [
    "tm"
   ]
  },
  {
   "cell_type": "code",
   "execution_count": 13,
   "id": "99fa5625-8b42-41b2-9649-53058033480c",
   "metadata": {},
   "outputs": [
    {
     "data": {
      "text/plain": [
       "array([[ 1,  2,  3],\n",
       "       [ 8, 10, 12]])"
      ]
     },
     "execution_count": 13,
     "metadata": {},
     "output_type": "execute_result"
    }
   ],
   "source": [
    "np.array([[1],[2]]) * tm"
   ]
  },
  {
   "cell_type": "code",
   "execution_count": 18,
   "id": "5be4060d-62a6-4200-a8f8-e5a8af991957",
   "metadata": {},
   "outputs": [
    {
     "data": {
      "text/plain": [
       "array([[1, 2, 3],\n",
       "       [4, 5, 6]])"
      ]
     },
     "execution_count": 18,
     "metadata": {},
     "output_type": "execute_result"
    }
   ],
   "source": [
    "tm "
   ]
  },
  {
   "cell_type": "code",
   "execution_count": 21,
   "id": "02d7b2e2-2ed4-44d5-9e39-ffa49210cec2",
   "metadata": {},
   "outputs": [
    {
     "data": {
      "text/plain": [
       "array([[1, 2, 3],\n",
       "       [4, 5, 6],\n",
       "       [7, 8, 9]])"
      ]
     },
     "execution_count": 21,
     "metadata": {},
     "output_type": "execute_result"
    }
   ],
   "source": [
    "tm\n"
   ]
  },
  {
   "cell_type": "code",
   "execution_count": 32,
   "id": "86f9248d-08a2-4585-9e32-64e470ec786c",
   "metadata": {},
   "outputs": [
    {
     "data": {
      "text/plain": [
       "array([[ 2,  4,  6, 20],\n",
       "       [12, 15, 18, 30],\n",
       "       [28, 32, 36, 40]])"
      ]
     },
     "execution_count": 32,
     "metadata": {},
     "output_type": "execute_result"
    }
   ],
   "source": [
    "np.array([2,3,4]).reshape(3,1) * tm"
   ]
  },
  {
   "cell_type": "code",
   "execution_count": 36,
   "id": "85a0cbac-922b-4c3e-a86e-a9affc57de42",
   "metadata": {},
   "outputs": [
    {
     "data": {
      "text/plain": [
       "array([[ 2,  4,  6, 20],\n",
       "       [12, 15, 18, 30],\n",
       "       [28, 32, 36, 40]])"
      ]
     },
     "execution_count": 36,
     "metadata": {},
     "output_type": "execute_result"
    }
   ],
   "source": [
    "(tm.T * np.array([2,3,4])).T"
   ]
  },
  {
   "cell_type": "code",
   "execution_count": 37,
   "id": "495ddb46-ceb7-42c0-923f-c11a636a43a9",
   "metadata": {},
   "outputs": [
    {
     "ename": "NameError",
     "evalue": "name 'dydw_matrix' is not defined",
     "output_type": "error",
     "traceback": [
      "\u001b[0;31m---------------------------------------------------------------------------\u001b[0m",
      "\u001b[0;31mNameError\u001b[0m                                 Traceback (most recent call last)",
      "Input \u001b[0;32mIn [37]\u001b[0m, in \u001b[0;36m<cell line: 1>\u001b[0;34m()\u001b[0m\n\u001b[0;32m----> 1\u001b[0m DW \u001b[38;5;241m=\u001b[39m (\u001b[43mdydw_matrix\u001b[49m\u001b[38;5;241m.\u001b[39mT \u001b[38;5;241m*\u001b[39m grads)\u001b[38;5;241m.\u001b[39mT\n",
      "\u001b[0;31mNameError\u001b[0m: name 'dydw_matrix' is not defined"
     ]
    }
   ],
   "source": [
    "DW = (dydw_matrix.T * grads).T"
   ]
  },
  {
   "cell_type": "code",
   "execution_count": 38,
   "id": "b0547350-5d70-43a2-9439-fad7fa6b469e",
   "metadata": {},
   "outputs": [
    {
     "data": {
      "text/plain": [
       "(3,)"
      ]
     },
     "execution_count": 38,
     "metadata": {},
     "output_type": "execute_result"
    }
   ],
   "source": [
    "np.array([2,3,4]).shape"
   ]
  },
  {
   "cell_type": "code",
   "execution_count": 16,
   "id": "cd88cd6c-37b4-4942-85d4-05aa998acb38",
   "metadata": {},
   "outputs": [],
   "source": [
    "t41 = np.array([1,2,3,4])\n",
    "t41 = np.array([1,2,3,4])\n",
    "t41 = np.atleast_2d(t41).T\n",
    "#t41"
   ]
  },
  {
   "cell_type": "code",
   "execution_count": 17,
   "id": "066b37c7-e096-4e5a-bbb4-f9ce02dbe70d",
   "metadata": {},
   "outputs": [
    {
     "data": {
      "text/plain": [
       "array([[ 1,  2,  3,  4,  5],\n",
       "       [ 2,  4,  6,  8, 10],\n",
       "       [ 3,  6,  9, 12, 15],\n",
       "       [ 4,  8, 12, 16, 20]])"
      ]
     },
     "execution_count": 17,
     "metadata": {},
     "output_type": "execute_result"
    }
   ],
   "source": [
    "np.atleast_2d(t41)  * np.array([1,2,3,4,5])"
   ]
  },
  {
   "cell_type": "code",
   "execution_count": 29,
   "id": "f245f31b-edf9-4ca7-ab1a-1183c461fa44",
   "metadata": {},
   "outputs": [
    {
     "data": {
      "text/plain": [
       "(4, 1)"
      ]
     },
     "execution_count": 29,
     "metadata": {},
     "output_type": "execute_result"
    }
   ],
   "source": [
    "t41.shape"
   ]
  },
  {
   "cell_type": "code",
   "execution_count": 26,
   "id": "64fc9065-772f-46a8-a2cd-904680c7c30d",
   "metadata": {},
   "outputs": [],
   "source": [
    "#dsigma = [dl/dy1, dl/dy2, dl/dy3,.....dl/dym]\n",
    "#for sigmod dl/dy = y(1-y)\n",
    "\n",
    "def update_weights( grads , dsigma, inp):\n",
    "    return np.atleast_2d(  grads * dsigma).T * inp\n",
    "\n",
    "#return the new grads that should be back propogated..\n",
    "def backprop_grads( grads, dsigma, wts ):\n",
    "    np.atleast_2d( (grads * dsigma).T *  wts )        "
   ]
  },
  {
   "cell_type": "code",
   "execution_count": 22,
   "id": "3291fb25-e0c8-4666-ab3d-47ccb2ff8821",
   "metadata": {},
   "outputs": [
    {
     "data": {
      "text/plain": [
       "array([[ 1,  2,  3,  4,  5],\n",
       "       [ 2,  4,  6,  8, 10],\n",
       "       [ 3,  6,  9, 12, 15],\n",
       "       [ 4,  8, 12, 16, 20]])"
      ]
     },
     "execution_count": 22,
     "metadata": {},
     "output_type": "execute_result"
    }
   ],
   "source": [
    "update_weights(np.array([1,2,3,4]),1, np.array([1,2,3,4,5]))"
   ]
  },
  {
   "cell_type": "code",
   "execution_count": 4,
   "id": "eed0ae6c-fecc-4a78-9c76-bb01ff582d6b",
   "metadata": {},
   "outputs": [
    {
     "data": {
      "text/plain": [
       "(784,)"
      ]
     },
     "execution_count": 4,
     "metadata": {},
     "output_type": "execute_result"
    }
   ],
   "source": [
    "x_train[0].shape"
   ]
  },
  {
   "cell_type": "code",
   "execution_count": 21,
   "id": "be2e7d52-165b-4a29-934a-d3e152f03432",
   "metadata": {},
   "outputs": [],
   "source": [
    "p = update_weights(np.random.rand(100), np.random.rand(100), x_train[0])"
   ]
  },
  {
   "cell_type": "code",
   "execution_count": 22,
   "id": "4acf5f7d-727e-4649-89bd-2a8f672b663d",
   "metadata": {},
   "outputs": [
    {
     "data": {
      "text/plain": [
       "array([[0., 0., 0., ..., 0., 0., 0.],\n",
       "       [0., 0., 0., ..., 0., 0., 0.],\n",
       "       [0., 0., 0., ..., 0., 0., 0.],\n",
       "       ...,\n",
       "       [0., 0., 0., ..., 0., 0., 0.],\n",
       "       [0., 0., 0., ..., 0., 0., 0.],\n",
       "       [0., 0., 0., ..., 0., 0., 0.]])"
      ]
     },
     "execution_count": 22,
     "metadata": {},
     "output_type": "execute_result"
    }
   ],
   "source": [
    "p"
   ]
  },
  {
   "cell_type": "code",
   "execution_count": 17,
   "id": "27b32e0f-c937-4e28-9f6d-ca40c54ab01a",
   "metadata": {},
   "outputs": [
    {
     "data": {
      "text/plain": [
       "(100, 784)"
      ]
     },
     "execution_count": 17,
     "metadata": {},
     "output_type": "execute_result"
    }
   ],
   "source": [
    "p.shape"
   ]
  },
  {
   "cell_type": "code",
   "execution_count": 23,
   "id": "c76b9493-88e3-4d92-a06e-03c10c6a3104",
   "metadata": {},
   "outputs": [
    {
     "data": {
      "text/plain": [
       "16600"
      ]
     },
     "execution_count": 23,
     "metadata": {},
     "output_type": "execute_result"
    }
   ],
   "source": [
    "np.count_nonzero( p )"
   ]
  },
  {
   "cell_type": "markdown",
   "id": "bb455b25-1880-40e9-80b2-366397ebf87f",
   "metadata": {},
   "source": [
    "Updation Strategy:\n",
    "\n",
    "In the end we are interested in weight updation.\n",
    "\n",
    "Approach-1)\n",
    "Update the weights after every sample.\n",
    "\n",
    "Approach-2) batch approach\n",
    "Run the sample\n",
    "take the cost function\n",
    "calculate dL/dy and back-propogate,\n",
    "calculate all dL/dW\n",
    "keep adding the dL/dW for all the samples. call it weights_to_be_updated\n",
    "after all the samples are done...\n",
    "add weights to weights_to_be_updated and we are done...\n",
    "\n",
    "Approach-3) (This may not work)\n",
    "Just add the cost for each sample and use the accumulated cost for back-propogation.\n",
    "This will not work, because the weight updates are dependent on the input \n",
    "but here there are N inputs in the batch, which input should we consider\n",
    "for update.. so I think we can drop this approach.\n",
    "\n",
    "So....\n",
    "The second approach looks like a working idea....."
   ]
  },
  {
   "cell_type": "code",
   "execution_count": 86,
   "id": "58062e8e-69b1-494e-8575-420a9f5bc5f8",
   "metadata": {},
   "outputs": [],
   "source": [
    "a = np.array([[1],[2],[3]])\n",
    "x = a.reshape(3,)"
   ]
  },
  {
   "cell_type": "code",
   "execution_count": 87,
   "id": "34b38005-1c3d-4c8f-8212-7fe68231cddc",
   "metadata": {},
   "outputs": [
    {
     "data": {
      "text/plain": [
       "array([1, 2, 3])"
      ]
     },
     "execution_count": 87,
     "metadata": {},
     "output_type": "execute_result"
    }
   ],
   "source": [
    "x"
   ]
  },
  {
   "cell_type": "code",
   "execution_count": 88,
   "id": "e00c7403-65e3-4158-b85d-ab5248547597",
   "metadata": {},
   "outputs": [
    {
     "data": {
      "text/plain": [
       "(3,)"
      ]
     },
     "execution_count": 88,
     "metadata": {},
     "output_type": "execute_result"
    }
   ],
   "source": [
    "x.shape"
   ]
  },
  {
   "cell_type": "code",
   "execution_count": 147,
   "id": "1aa43205-f9fb-4a9f-89b5-2607c20f9ced",
   "metadata": {},
   "outputs": [],
   "source": [
    "x1 = np.arange(20).reshape(4,5)"
   ]
  },
  {
   "cell_type": "code",
   "execution_count": 148,
   "id": "36b64662-dfb4-4f62-ae2e-1adaa61c1614",
   "metadata": {},
   "outputs": [
    {
     "data": {
      "text/plain": [
       "(4, 5)"
      ]
     },
     "execution_count": 148,
     "metadata": {},
     "output_type": "execute_result"
    }
   ],
   "source": [
    "x1.shape"
   ]
  },
  {
   "cell_type": "code",
   "execution_count": 149,
   "id": "9765e155-62c6-4fa7-8feb-4f862d2fbbff",
   "metadata": {},
   "outputs": [
    {
     "data": {
      "text/plain": [
       "array([30, 34, 38, 42, 46])"
      ]
     },
     "execution_count": 149,
     "metadata": {},
     "output_type": "execute_result"
    }
   ],
   "source": [
    "np.sum(x1,axis=0)"
   ]
  },
  {
   "cell_type": "code",
   "execution_count": 150,
   "id": "1dc72cb2-80b0-4089-a6cf-ebbf232cd67d",
   "metadata": {},
   "outputs": [
    {
     "data": {
      "text/plain": [
       "array([[ 0,  1,  2,  3,  4],\n",
       "       [ 5,  6,  7,  8,  9],\n",
       "       [10, 11, 12, 13, 14],\n",
       "       [15, 16, 17, 18, 19]])"
      ]
     },
     "execution_count": 150,
     "metadata": {},
     "output_type": "execute_result"
    }
   ],
   "source": [
    "x1"
   ]
  },
  {
   "cell_type": "code",
   "execution_count": null,
   "id": "3cfc1843-0149-4160-8d69-138be24d51fd",
   "metadata": {},
   "outputs": [],
   "source": []
  }
 ],
 "metadata": {
  "kernelspec": {
   "display_name": "Python [conda env:torch]",
   "language": "python",
   "name": "conda-env-torch-py"
  },
  "language_info": {
   "codemirror_mode": {
    "name": "ipython",
    "version": 3
   },
   "file_extension": ".py",
   "mimetype": "text/x-python",
   "name": "python",
   "nbconvert_exporter": "python",
   "pygments_lexer": "ipython3",
   "version": "3.10.4"
  }
 },
 "nbformat": 4,
 "nbformat_minor": 5
}
